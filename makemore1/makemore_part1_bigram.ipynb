{
  "nbformat": 4,
  "nbformat_minor": 0,
  "metadata": {
    "colab": {
      "provenance": [],
      "authorship_tag": "ABX9TyOOgjhVAUWT750Mwp/bmyDH",
      "include_colab_link": true
    },
    "kernelspec": {
      "name": "python3",
      "display_name": "Python 3"
    },
    "language_info": {
      "name": "python"
    }
  },
  "cells": [
    {
      "cell_type": "markdown",
      "metadata": {
        "id": "view-in-github",
        "colab_type": "text"
      },
      "source": [
        "<a href=\"https://colab.research.google.com/github/salemsama/nn-zero-to-hero/blob/main/makemore1/makemore_part1_bigram.ipynb\" target=\"_parent\"><img src=\"https://colab.research.google.com/assets/colab-badge.svg\" alt=\"Open In Colab\"/></a>"
      ]
    },
    {
      "cell_type": "code",
      "execution_count": null,
      "metadata": {
        "id": "dL0UXcJT_g5K"
      },
      "outputs": [],
      "source": [
        "import torch\n",
        "import torch.nn.functional as F"
      ]
    },
    {
      "cell_type": "code",
      "source": [
        "words = open(\"names.txt\", 'r').read().splitlines()\n",
        "\n",
        "chars = sorted(list(set(''.join(words))))       # all letters, set used first because it doesn't allow duplicate\n",
        "stoi = {s:i+1 for i,s in enumerate(chars)}      # dict to map string to int,    start from 1, 0 reserved for next line\n",
        "stoi['.'] = 0                                   # special letter to mark start and end of word\n",
        "itos = {i:s for s,i in stoi.items()}            # dict to map int to string\n",
        "\n",
        "\n",
        "xs, ys = [], [] # lists for first letters and following letters\n",
        "for word in words:\n",
        "    chs = ['.'] + list(word) + ['.']    # word was string now list of char and special char before and after\n",
        "    for ch1,ch2 in zip(chs, chs[1:]):   # zip make a tuple of every couple of chs\n",
        "        ix1 = stoi[ch1]\n",
        "        ix2 = stoi[ch2]                 # store the number of the char\n",
        "\n",
        "        xs.append(ix1)                  # here map xs ans ys\n",
        "        ys.append(ix2)                  # xs is the input and ys is the correct output\n",
        "        ...\n",
        "xs = torch.tensor(xs)\n",
        "ys = torch.tensor(ys)\n",
        "num = xs.nelement()\n",
        "num"
      ],
      "metadata": {
        "colab": {
          "base_uri": "https://localhost:8080/"
        },
        "id": "cP2QxdtWPGUD",
        "outputId": "6104568a-4278-497f-b9b8-d52b42637aaa"
      },
      "execution_count": null,
      "outputs": [
        {
          "output_type": "execute_result",
          "data": {
            "text/plain": [
              "228146"
            ]
          },
          "metadata": {},
          "execution_count": 6
        }
      ]
    },
    {
      "cell_type": "code",
      "source": [
        "# initialize the 'network'\n",
        "gen = torch.Generator().manual_seed(2147483647)\n",
        "W = torch.randn((27,27), generator=gen, requires_grad=True) # 27*27 network with grad"
      ],
      "metadata": {
        "id": "BbnZygtwO9oe"
      },
      "execution_count": null,
      "outputs": []
    },
    {
      "cell_type": "code",
      "source": [
        "def grad_desc(n):\n",
        "    for k in range(n):\n",
        "        # forward pass\n",
        "            # we reprsent every letter as one hot (arrays of 0 except 1 place of the letter index)\n",
        "        xenc = F.one_hot(xs, num_classes=27).float() # xs encoded as noe hots\n",
        "        #one hot for a for example\n",
        "        #[0., 1., 0., 0., 0., 0., 0., 0., 0., 0., 0., 0., 0., 0., 0., 0., 0., 0., 0., 0., 0., 0., 0., 0., 0., 0., 0.]\n",
        "\n",
        "        # the input * the weights\n",
        "        logits = xenc @ W # matrix mulipication in pytorch, logits for log-counts\n",
        "        # we mulitply xenc wich is n*27 @ 27*27 it out put n*27\n",
        "        # thats why W is 27*27 in order for the mulipication to be correct\n",
        "        # if it was 27*1 it would give us n*1 output\n",
        "\n",
        "        # non linearity, this two lines called softmax\n",
        "        counts = logits.exp() # fake counts, when exp all numbers become positive kinda like counts\n",
        "        probs = counts / counts.sum(1, keepdim=True) # normalizing the probability so the sum equals 1\n",
        "        # the division here is 27*27 / 27*1 so every row is divided by its sum\n",
        "\n",
        "        # the loss function\n",
        "        loss= probs[torch.arange(num), ys] # here we collect the probabilities of the correct output ys\n",
        "        loss= -loss.log().mean()    # here we used the negative liklyhood loss function\n",
        "        loss = loss + 0.01 * (W**2).mean() # regularazition, like adding 1 to counts to there is no 0 count\n",
        "        print(loss.item())\n",
        "\n",
        "        # backward pass\n",
        "        W.grad = None   #zerograd, None is more efficient than zero\n",
        "        loss.backward() # set the grad to how much it influnce the loss\n",
        "        W.data += -50*W.grad # we use the minus becuase we want to lower the loss"
      ],
      "metadata": {
        "id": "U8jaZ1SgO1eF"
      },
      "execution_count": null,
      "outputs": []
    },
    {
      "cell_type": "code",
      "source": [
        "grad_desc(100)"
      ],
      "metadata": {
        "id": "AUjsBbltOls3",
        "colab": {
          "base_uri": "https://localhost:8080/"
        },
        "outputId": "b2bbb9f9-1e8d-4c5a-d7a5-225984c4b934"
      },
      "execution_count": null,
      "outputs": [
        {
          "output_type": "stream",
          "name": "stdout",
          "text": [
            "3.7686190605163574\n",
            "3.3788065910339355\n",
            "3.16109037399292\n",
            "3.0271859169006348\n",
            "2.9344842433929443\n",
            "2.867231607437134\n",
            "2.8166542053222656\n",
            "2.777146339416504\n",
            "2.7452542781829834\n",
            "2.7188303470611572\n",
            "2.696505546569824\n",
            "2.6773719787597656\n",
            "2.6608052253723145\n",
            "2.6463515758514404\n",
            "2.633664846420288\n",
            "2.622471570968628\n",
            "2.6125476360321045\n",
            "2.6037068367004395\n",
            "2.595794916152954\n",
            "2.5886809825897217\n",
            "2.5822560787200928\n",
            "2.5764293670654297\n",
            "2.5711236000061035\n",
            "2.5662729740142822\n",
            "2.5618228912353516\n",
            "2.5577263832092285\n",
            "2.5539441108703613\n",
            "2.550442695617676\n",
            "2.5471925735473633\n",
            "2.5441696643829346\n",
            "2.5413522720336914\n",
            "2.538722038269043\n",
            "2.536262035369873\n",
            "2.5339581966400146\n",
            "2.531797409057617\n",
            "2.529768228530884\n",
            "2.527859926223755\n",
            "2.5260636806488037\n",
            "2.5243701934814453\n",
            "2.522773265838623\n",
            "2.52126407623291\n",
            "2.519836902618408\n",
            "2.5184857845306396\n",
            "2.5172054767608643\n",
            "2.515990734100342\n",
            "2.5148372650146484\n",
            "2.5137407779693604\n",
            "2.512697696685791\n",
            "2.511704921722412\n",
            "2.5107581615448\n",
            "2.509854555130005\n",
            "2.5089924335479736\n",
            "2.5081682205200195\n",
            "2.507380485534668\n",
            "2.5066261291503906\n",
            "2.5059032440185547\n",
            "2.5052106380462646\n",
            "2.5045459270477295\n",
            "2.5039076805114746\n",
            "2.503295421600342\n",
            "2.5027060508728027\n",
            "2.5021393299102783\n",
            "2.5015945434570312\n",
            "2.5010693073272705\n",
            "2.500562906265259\n",
            "2.500075578689575\n",
            "2.4996044635772705\n",
            "2.499150514602661\n",
            "2.4987120628356934\n",
            "2.498288154602051\n",
            "2.4978790283203125\n",
            "2.4974827766418457\n",
            "2.4970996379852295\n",
            "2.4967293739318848\n",
            "2.496370315551758\n",
            "2.4960227012634277\n",
            "2.4956858158111572\n",
            "2.4953596591949463\n",
            "2.4950435161590576\n",
            "2.494736433029175\n",
            "2.4944381713867188\n",
            "2.494149684906006\n",
            "2.4938690662384033\n",
            "2.4935967922210693\n",
            "2.4933323860168457\n",
            "2.493075132369995\n",
            "2.4928252696990967\n",
            "2.492582321166992\n",
            "2.49234676361084\n",
            "2.492116689682007\n",
            "2.4918932914733887\n",
            "2.491676092147827\n",
            "2.491464376449585\n",
            "2.491258382797241\n",
            "2.491058111190796\n",
            "2.4908623695373535\n",
            "2.4906723499298096\n",
            "2.4904870986938477\n",
            "2.4903063774108887\n",
            "2.4901304244995117\n"
          ]
        }
      ]
    },
    {
      "cell_type": "code",
      "source": [
        "for i in range(5):\n",
        "            out = []\n",
        "            ix = 0\n",
        "            while True:\n",
        "                xenc = F.one_hot(torch.tensor([ix]), num_classes=27).float()\n",
        "                logits = xenc @ W\n",
        "                counts = logits.exp()\n",
        "                p = counts / counts.sum(1, keepdim=True)\n",
        "\n",
        "                ix = torch.multinomial(p,num_samples=1,replacement=True,generator=gen).item()\n",
        "                out.append(itos[ix])\n",
        "                if ix == 0:\n",
        "                    break\n",
        "            print(''.join(out))"
      ],
      "metadata": {
        "id": "H5vjF8NX_rRr",
        "colab": {
          "base_uri": "https://localhost:8080/"
        },
        "outputId": "87e710f1-047e-4bdb-cf28-2bac1b6b4a6e"
      },
      "execution_count": null,
      "outputs": [
        {
          "output_type": "stream",
          "name": "stdout",
          "text": [
            "morvann.\n",
            "akela.\n",
            "az.\n",
            "arileri.\n",
            "chaiadayra.\n"
          ]
        }
      ]
    }
  ]
}